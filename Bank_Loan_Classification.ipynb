{
  "cells": [
    {
      "cell_type": "markdown",
      "metadata": {
        "id": "view-in-github",
        "colab_type": "text"
      },
      "source": [
        "<a href=\"https://colab.research.google.com/github/palisthadeshar/Bank-Loan-Classification/blob/main/Bank_Loan_Classification.ipynb\" target=\"_parent\"><img src=\"https://colab.research.google.com/assets/colab-badge.svg\" alt=\"Open In Colab\"/></a>"
      ]
    },
    {
      "cell_type": "code",
      "execution_count": 167,
      "id": "9a2330b9",
      "metadata": {
        "id": "9a2330b9"
      },
      "outputs": [],
      "source": [
        "#importing libraries\n",
        "import pandas as pd\n",
        "import numpy as np\n",
        "from sklearn.impute import SimpleImputer\n",
        "import matplotlib.pyplot as plt\n",
        "import seaborn as sns\n",
        "import missingno as msno\n",
        "from sklearn.model_selection import train_test_split\n",
        "from sklearn.linear_model import LogisticRegression\n",
        "from sklearn import metrics\n",
        "from sklearn.preprocessing import LabelEncoder\n",
        "from sklearn.preprocessing import OneHotEncoder\n",
        "from sklearn.metrics import accuracy_score, precision_score, recall_score, f1_score"
      ]
    },
    {
      "cell_type": "code",
      "execution_count": 168,
      "id": "79c0be64",
      "metadata": {
        "colab": {
          "base_uri": "https://localhost:8080/",
          "height": 73
        },
        "id": "79c0be64",
        "outputId": "da81057c-a3ad-4d95-94cd-0429d75ea59b"
      },
      "outputs": [
        {
          "output_type": "display_data",
          "data": {
            "text/plain": [
              "<IPython.core.display.HTML object>"
            ],
            "text/html": [
              "\n",
              "     <input type=\"file\" id=\"files-a2bd4b8c-cf0f-45d8-9fb8-f27b7d63a02d\" name=\"files[]\" multiple disabled\n",
              "        style=\"border:none\" />\n",
              "     <output id=\"result-a2bd4b8c-cf0f-45d8-9fb8-f27b7d63a02d\">\n",
              "      Upload widget is only available when the cell has been executed in the\n",
              "      current browser session. Please rerun this cell to enable.\n",
              "      </output>\n",
              "      <script>// Copyright 2017 Google LLC\n",
              "//\n",
              "// Licensed under the Apache License, Version 2.0 (the \"License\");\n",
              "// you may not use this file except in compliance with the License.\n",
              "// You may obtain a copy of the License at\n",
              "//\n",
              "//      http://www.apache.org/licenses/LICENSE-2.0\n",
              "//\n",
              "// Unless required by applicable law or agreed to in writing, software\n",
              "// distributed under the License is distributed on an \"AS IS\" BASIS,\n",
              "// WITHOUT WARRANTIES OR CONDITIONS OF ANY KIND, either express or implied.\n",
              "// See the License for the specific language governing permissions and\n",
              "// limitations under the License.\n",
              "\n",
              "/**\n",
              " * @fileoverview Helpers for google.colab Python module.\n",
              " */\n",
              "(function(scope) {\n",
              "function span(text, styleAttributes = {}) {\n",
              "  const element = document.createElement('span');\n",
              "  element.textContent = text;\n",
              "  for (const key of Object.keys(styleAttributes)) {\n",
              "    element.style[key] = styleAttributes[key];\n",
              "  }\n",
              "  return element;\n",
              "}\n",
              "\n",
              "// Max number of bytes which will be uploaded at a time.\n",
              "const MAX_PAYLOAD_SIZE = 100 * 1024;\n",
              "\n",
              "function _uploadFiles(inputId, outputId) {\n",
              "  const steps = uploadFilesStep(inputId, outputId);\n",
              "  const outputElement = document.getElementById(outputId);\n",
              "  // Cache steps on the outputElement to make it available for the next call\n",
              "  // to uploadFilesContinue from Python.\n",
              "  outputElement.steps = steps;\n",
              "\n",
              "  return _uploadFilesContinue(outputId);\n",
              "}\n",
              "\n",
              "// This is roughly an async generator (not supported in the browser yet),\n",
              "// where there are multiple asynchronous steps and the Python side is going\n",
              "// to poll for completion of each step.\n",
              "// This uses a Promise to block the python side on completion of each step,\n",
              "// then passes the result of the previous step as the input to the next step.\n",
              "function _uploadFilesContinue(outputId) {\n",
              "  const outputElement = document.getElementById(outputId);\n",
              "  const steps = outputElement.steps;\n",
              "\n",
              "  const next = steps.next(outputElement.lastPromiseValue);\n",
              "  return Promise.resolve(next.value.promise).then((value) => {\n",
              "    // Cache the last promise value to make it available to the next\n",
              "    // step of the generator.\n",
              "    outputElement.lastPromiseValue = value;\n",
              "    return next.value.response;\n",
              "  });\n",
              "}\n",
              "\n",
              "/**\n",
              " * Generator function which is called between each async step of the upload\n",
              " * process.\n",
              " * @param {string} inputId Element ID of the input file picker element.\n",
              " * @param {string} outputId Element ID of the output display.\n",
              " * @return {!Iterable<!Object>} Iterable of next steps.\n",
              " */\n",
              "function* uploadFilesStep(inputId, outputId) {\n",
              "  const inputElement = document.getElementById(inputId);\n",
              "  inputElement.disabled = false;\n",
              "\n",
              "  const outputElement = document.getElementById(outputId);\n",
              "  outputElement.innerHTML = '';\n",
              "\n",
              "  const pickedPromise = new Promise((resolve) => {\n",
              "    inputElement.addEventListener('change', (e) => {\n",
              "      resolve(e.target.files);\n",
              "    });\n",
              "  });\n",
              "\n",
              "  const cancel = document.createElement('button');\n",
              "  inputElement.parentElement.appendChild(cancel);\n",
              "  cancel.textContent = 'Cancel upload';\n",
              "  const cancelPromise = new Promise((resolve) => {\n",
              "    cancel.onclick = () => {\n",
              "      resolve(null);\n",
              "    };\n",
              "  });\n",
              "\n",
              "  // Wait for the user to pick the files.\n",
              "  const files = yield {\n",
              "    promise: Promise.race([pickedPromise, cancelPromise]),\n",
              "    response: {\n",
              "      action: 'starting',\n",
              "    }\n",
              "  };\n",
              "\n",
              "  cancel.remove();\n",
              "\n",
              "  // Disable the input element since further picks are not allowed.\n",
              "  inputElement.disabled = true;\n",
              "\n",
              "  if (!files) {\n",
              "    return {\n",
              "      response: {\n",
              "        action: 'complete',\n",
              "      }\n",
              "    };\n",
              "  }\n",
              "\n",
              "  for (const file of files) {\n",
              "    const li = document.createElement('li');\n",
              "    li.append(span(file.name, {fontWeight: 'bold'}));\n",
              "    li.append(span(\n",
              "        `(${file.type || 'n/a'}) - ${file.size} bytes, ` +\n",
              "        `last modified: ${\n",
              "            file.lastModifiedDate ? file.lastModifiedDate.toLocaleDateString() :\n",
              "                                    'n/a'} - `));\n",
              "    const percent = span('0% done');\n",
              "    li.appendChild(percent);\n",
              "\n",
              "    outputElement.appendChild(li);\n",
              "\n",
              "    const fileDataPromise = new Promise((resolve) => {\n",
              "      const reader = new FileReader();\n",
              "      reader.onload = (e) => {\n",
              "        resolve(e.target.result);\n",
              "      };\n",
              "      reader.readAsArrayBuffer(file);\n",
              "    });\n",
              "    // Wait for the data to be ready.\n",
              "    let fileData = yield {\n",
              "      promise: fileDataPromise,\n",
              "      response: {\n",
              "        action: 'continue',\n",
              "      }\n",
              "    };\n",
              "\n",
              "    // Use a chunked sending to avoid message size limits. See b/62115660.\n",
              "    let position = 0;\n",
              "    do {\n",
              "      const length = Math.min(fileData.byteLength - position, MAX_PAYLOAD_SIZE);\n",
              "      const chunk = new Uint8Array(fileData, position, length);\n",
              "      position += length;\n",
              "\n",
              "      const base64 = btoa(String.fromCharCode.apply(null, chunk));\n",
              "      yield {\n",
              "        response: {\n",
              "          action: 'append',\n",
              "          file: file.name,\n",
              "          data: base64,\n",
              "        },\n",
              "      };\n",
              "\n",
              "      let percentDone = fileData.byteLength === 0 ?\n",
              "          100 :\n",
              "          Math.round((position / fileData.byteLength) * 100);\n",
              "      percent.textContent = `${percentDone}% done`;\n",
              "\n",
              "    } while (position < fileData.byteLength);\n",
              "  }\n",
              "\n",
              "  // All done.\n",
              "  yield {\n",
              "    response: {\n",
              "      action: 'complete',\n",
              "    }\n",
              "  };\n",
              "}\n",
              "\n",
              "scope.google = scope.google || {};\n",
              "scope.google.colab = scope.google.colab || {};\n",
              "scope.google.colab._files = {\n",
              "  _uploadFiles,\n",
              "  _uploadFilesContinue,\n",
              "};\n",
              "})(self);\n",
              "</script> "
            ]
          },
          "metadata": {}
        },
        {
          "output_type": "stream",
          "name": "stdout",
          "text": [
            "Saving Bank_loan_data (2).xlsx to Bank_loan_data (2) (5).xlsx\n"
          ]
        }
      ],
      "source": [
        "#importing excel sheet having data\n",
        "# read_data = pd.read_excel('Bank_loan_data.xlsx','Data')\n",
        "from google.colab import files\n",
        "uploaded = files.upload()\n",
        "loan_data = pd.read_excel(list(uploaded.keys())[0])\n"
      ]
    },
    {
      "cell_type": "code",
      "execution_count": 169,
      "id": "d2eb0d56",
      "metadata": {
        "colab": {
          "base_uri": "https://localhost:8080/",
          "height": 876
        },
        "id": "d2eb0d56",
        "outputId": "69c9efe4-bfec-45c2-d74b-f2a5dd4d517e"
      },
      "outputs": [
        {
          "output_type": "execute_result",
          "data": {
            "text/plain": [
              "    ID  Age Gender  Experience  Income  ZIP Code  Family  CCAvg  Education  \\\n",
              "0    1   25      M           1    49.0     91107       4    1.6          1   \n",
              "1    2   45      M          19    34.0     90089       3    1.5          1   \n",
              "2    3   39      M          15    11.0     94720       1    1.0          1   \n",
              "3    4   35      M           9   100.0     94112       1    2.7          2   \n",
              "4    5   35      M           8    45.0     91330       4    1.0          2   \n",
              "5    6   37      M          13    29.0     92121       4    0.4          2   \n",
              "6    7   53      M          27    72.0     91711       2    1.5          2   \n",
              "7    8   50      M          24    22.0     93943       1    0.3          3   \n",
              "8    9   35      M          10    81.0     90089       3    0.6          2   \n",
              "9   10   34      M           9   180.0     93023       1    8.9          3   \n",
              "10  11   65      F          39   105.0     94710       4    2.4          3   \n",
              "11  12   29      F           5    45.0     90277       3    0.1          2   \n",
              "12  13   48      F          23   114.0     93106       2    3.8          3   \n",
              "13  14   59      F          32    40.0     94920       4    2.5          2   \n",
              "14  15   67      F          41   112.0     91741       1    2.0          1   \n",
              "15  16   60      F          30    22.0     95054       1    1.5          3   \n",
              "16  17   38      M          14   130.0     95010       4    4.7          3   \n",
              "17  18   42      O          18    81.0     94305       4    2.4          1   \n",
              "18  19   46      M          21   193.0     91604       2    8.1          3   \n",
              "19  20   55      M          28    21.0     94720       1    0.5          2   \n",
              "\n",
              "    Mortgage Home Ownership Personal Loan  Securities Account  CD Account  \\\n",
              "0          0     Home Owner             0                   1           0   \n",
              "1          0           Rent             0                   1           0   \n",
              "2          0           Rent             0                   0           0   \n",
              "3          0           Rent             0                   0           0   \n",
              "4          0           Rent             0                   0           0   \n",
              "5        155           Rent             0                   0           0   \n",
              "6          0           Rent             0                   0           0   \n",
              "7          0           Rent             0                   0           0   \n",
              "8        104           Rent             0                   0           0   \n",
              "9          0     Home Owner             1                   0           0   \n",
              "10         0     Home Owner             0                   0           0   \n",
              "11         0     Home Owner             0                   0           0   \n",
              "12         0     Home Owner             0                   1           0   \n",
              "13         0     Home Owner             0                   0           0   \n",
              "14         0     Home Owner             0                   1           0   \n",
              "15         0     Home Owner             0                   0           0   \n",
              "16       134           Rent             1                   0           0   \n",
              "17         0           Rent             0                   0           0   \n",
              "18         0           Rent             1                   0           0   \n",
              "19         0           Rent             0                   1           0   \n",
              "\n",
              "    Online  CreditCard  \n",
              "0      0.0           0  \n",
              "1      0.0           0  \n",
              "2      0.0           0  \n",
              "3      0.0           0  \n",
              "4      0.0           1  \n",
              "5      1.0           0  \n",
              "6      1.0           0  \n",
              "7      0.0           1  \n",
              "8      1.0           0  \n",
              "9      0.0           0  \n",
              "10     0.0           0  \n",
              "11     1.0           0  \n",
              "12     0.0           0  \n",
              "13     1.0           0  \n",
              "14     0.0           0  \n",
              "15     1.0           1  \n",
              "16     0.0           0  \n",
              "17     0.0           0  \n",
              "18     0.0           0  \n",
              "19     0.0           1  "
            ],
            "text/html": [
              "\n",
              "\n",
              "  <div id=\"df-43082732-802a-4724-adb3-7b6e3795af1a\">\n",
              "    <div class=\"colab-df-container\">\n",
              "      <div>\n",
              "<style scoped>\n",
              "    .dataframe tbody tr th:only-of-type {\n",
              "        vertical-align: middle;\n",
              "    }\n",
              "\n",
              "    .dataframe tbody tr th {\n",
              "        vertical-align: top;\n",
              "    }\n",
              "\n",
              "    .dataframe thead th {\n",
              "        text-align: right;\n",
              "    }\n",
              "</style>\n",
              "<table border=\"1\" class=\"dataframe\">\n",
              "  <thead>\n",
              "    <tr style=\"text-align: right;\">\n",
              "      <th></th>\n",
              "      <th>ID</th>\n",
              "      <th>Age</th>\n",
              "      <th>Gender</th>\n",
              "      <th>Experience</th>\n",
              "      <th>Income</th>\n",
              "      <th>ZIP Code</th>\n",
              "      <th>Family</th>\n",
              "      <th>CCAvg</th>\n",
              "      <th>Education</th>\n",
              "      <th>Mortgage</th>\n",
              "      <th>Home Ownership</th>\n",
              "      <th>Personal Loan</th>\n",
              "      <th>Securities Account</th>\n",
              "      <th>CD Account</th>\n",
              "      <th>Online</th>\n",
              "      <th>CreditCard</th>\n",
              "    </tr>\n",
              "  </thead>\n",
              "  <tbody>\n",
              "    <tr>\n",
              "      <th>0</th>\n",
              "      <td>1</td>\n",
              "      <td>25</td>\n",
              "      <td>M</td>\n",
              "      <td>1</td>\n",
              "      <td>49.0</td>\n",
              "      <td>91107</td>\n",
              "      <td>4</td>\n",
              "      <td>1.6</td>\n",
              "      <td>1</td>\n",
              "      <td>0</td>\n",
              "      <td>Home Owner</td>\n",
              "      <td>0</td>\n",
              "      <td>1</td>\n",
              "      <td>0</td>\n",
              "      <td>0.0</td>\n",
              "      <td>0</td>\n",
              "    </tr>\n",
              "    <tr>\n",
              "      <th>1</th>\n",
              "      <td>2</td>\n",
              "      <td>45</td>\n",
              "      <td>M</td>\n",
              "      <td>19</td>\n",
              "      <td>34.0</td>\n",
              "      <td>90089</td>\n",
              "      <td>3</td>\n",
              "      <td>1.5</td>\n",
              "      <td>1</td>\n",
              "      <td>0</td>\n",
              "      <td>Rent</td>\n",
              "      <td>0</td>\n",
              "      <td>1</td>\n",
              "      <td>0</td>\n",
              "      <td>0.0</td>\n",
              "      <td>0</td>\n",
              "    </tr>\n",
              "    <tr>\n",
              "      <th>2</th>\n",
              "      <td>3</td>\n",
              "      <td>39</td>\n",
              "      <td>M</td>\n",
              "      <td>15</td>\n",
              "      <td>11.0</td>\n",
              "      <td>94720</td>\n",
              "      <td>1</td>\n",
              "      <td>1.0</td>\n",
              "      <td>1</td>\n",
              "      <td>0</td>\n",
              "      <td>Rent</td>\n",
              "      <td>0</td>\n",
              "      <td>0</td>\n",
              "      <td>0</td>\n",
              "      <td>0.0</td>\n",
              "      <td>0</td>\n",
              "    </tr>\n",
              "    <tr>\n",
              "      <th>3</th>\n",
              "      <td>4</td>\n",
              "      <td>35</td>\n",
              "      <td>M</td>\n",
              "      <td>9</td>\n",
              "      <td>100.0</td>\n",
              "      <td>94112</td>\n",
              "      <td>1</td>\n",
              "      <td>2.7</td>\n",
              "      <td>2</td>\n",
              "      <td>0</td>\n",
              "      <td>Rent</td>\n",
              "      <td>0</td>\n",
              "      <td>0</td>\n",
              "      <td>0</td>\n",
              "      <td>0.0</td>\n",
              "      <td>0</td>\n",
              "    </tr>\n",
              "    <tr>\n",
              "      <th>4</th>\n",
              "      <td>5</td>\n",
              "      <td>35</td>\n",
              "      <td>M</td>\n",
              "      <td>8</td>\n",
              "      <td>45.0</td>\n",
              "      <td>91330</td>\n",
              "      <td>4</td>\n",
              "      <td>1.0</td>\n",
              "      <td>2</td>\n",
              "      <td>0</td>\n",
              "      <td>Rent</td>\n",
              "      <td>0</td>\n",
              "      <td>0</td>\n",
              "      <td>0</td>\n",
              "      <td>0.0</td>\n",
              "      <td>1</td>\n",
              "    </tr>\n",
              "    <tr>\n",
              "      <th>5</th>\n",
              "      <td>6</td>\n",
              "      <td>37</td>\n",
              "      <td>M</td>\n",
              "      <td>13</td>\n",
              "      <td>29.0</td>\n",
              "      <td>92121</td>\n",
              "      <td>4</td>\n",
              "      <td>0.4</td>\n",
              "      <td>2</td>\n",
              "      <td>155</td>\n",
              "      <td>Rent</td>\n",
              "      <td>0</td>\n",
              "      <td>0</td>\n",
              "      <td>0</td>\n",
              "      <td>1.0</td>\n",
              "      <td>0</td>\n",
              "    </tr>\n",
              "    <tr>\n",
              "      <th>6</th>\n",
              "      <td>7</td>\n",
              "      <td>53</td>\n",
              "      <td>M</td>\n",
              "      <td>27</td>\n",
              "      <td>72.0</td>\n",
              "      <td>91711</td>\n",
              "      <td>2</td>\n",
              "      <td>1.5</td>\n",
              "      <td>2</td>\n",
              "      <td>0</td>\n",
              "      <td>Rent</td>\n",
              "      <td>0</td>\n",
              "      <td>0</td>\n",
              "      <td>0</td>\n",
              "      <td>1.0</td>\n",
              "      <td>0</td>\n",
              "    </tr>\n",
              "    <tr>\n",
              "      <th>7</th>\n",
              "      <td>8</td>\n",
              "      <td>50</td>\n",
              "      <td>M</td>\n",
              "      <td>24</td>\n",
              "      <td>22.0</td>\n",
              "      <td>93943</td>\n",
              "      <td>1</td>\n",
              "      <td>0.3</td>\n",
              "      <td>3</td>\n",
              "      <td>0</td>\n",
              "      <td>Rent</td>\n",
              "      <td>0</td>\n",
              "      <td>0</td>\n",
              "      <td>0</td>\n",
              "      <td>0.0</td>\n",
              "      <td>1</td>\n",
              "    </tr>\n",
              "    <tr>\n",
              "      <th>8</th>\n",
              "      <td>9</td>\n",
              "      <td>35</td>\n",
              "      <td>M</td>\n",
              "      <td>10</td>\n",
              "      <td>81.0</td>\n",
              "      <td>90089</td>\n",
              "      <td>3</td>\n",
              "      <td>0.6</td>\n",
              "      <td>2</td>\n",
              "      <td>104</td>\n",
              "      <td>Rent</td>\n",
              "      <td>0</td>\n",
              "      <td>0</td>\n",
              "      <td>0</td>\n",
              "      <td>1.0</td>\n",
              "      <td>0</td>\n",
              "    </tr>\n",
              "    <tr>\n",
              "      <th>9</th>\n",
              "      <td>10</td>\n",
              "      <td>34</td>\n",
              "      <td>M</td>\n",
              "      <td>9</td>\n",
              "      <td>180.0</td>\n",
              "      <td>93023</td>\n",
              "      <td>1</td>\n",
              "      <td>8.9</td>\n",
              "      <td>3</td>\n",
              "      <td>0</td>\n",
              "      <td>Home Owner</td>\n",
              "      <td>1</td>\n",
              "      <td>0</td>\n",
              "      <td>0</td>\n",
              "      <td>0.0</td>\n",
              "      <td>0</td>\n",
              "    </tr>\n",
              "    <tr>\n",
              "      <th>10</th>\n",
              "      <td>11</td>\n",
              "      <td>65</td>\n",
              "      <td>F</td>\n",
              "      <td>39</td>\n",
              "      <td>105.0</td>\n",
              "      <td>94710</td>\n",
              "      <td>4</td>\n",
              "      <td>2.4</td>\n",
              "      <td>3</td>\n",
              "      <td>0</td>\n",
              "      <td>Home Owner</td>\n",
              "      <td>0</td>\n",
              "      <td>0</td>\n",
              "      <td>0</td>\n",
              "      <td>0.0</td>\n",
              "      <td>0</td>\n",
              "    </tr>\n",
              "    <tr>\n",
              "      <th>11</th>\n",
              "      <td>12</td>\n",
              "      <td>29</td>\n",
              "      <td>F</td>\n",
              "      <td>5</td>\n",
              "      <td>45.0</td>\n",
              "      <td>90277</td>\n",
              "      <td>3</td>\n",
              "      <td>0.1</td>\n",
              "      <td>2</td>\n",
              "      <td>0</td>\n",
              "      <td>Home Owner</td>\n",
              "      <td>0</td>\n",
              "      <td>0</td>\n",
              "      <td>0</td>\n",
              "      <td>1.0</td>\n",
              "      <td>0</td>\n",
              "    </tr>\n",
              "    <tr>\n",
              "      <th>12</th>\n",
              "      <td>13</td>\n",
              "      <td>48</td>\n",
              "      <td>F</td>\n",
              "      <td>23</td>\n",
              "      <td>114.0</td>\n",
              "      <td>93106</td>\n",
              "      <td>2</td>\n",
              "      <td>3.8</td>\n",
              "      <td>3</td>\n",
              "      <td>0</td>\n",
              "      <td>Home Owner</td>\n",
              "      <td>0</td>\n",
              "      <td>1</td>\n",
              "      <td>0</td>\n",
              "      <td>0.0</td>\n",
              "      <td>0</td>\n",
              "    </tr>\n",
              "    <tr>\n",
              "      <th>13</th>\n",
              "      <td>14</td>\n",
              "      <td>59</td>\n",
              "      <td>F</td>\n",
              "      <td>32</td>\n",
              "      <td>40.0</td>\n",
              "      <td>94920</td>\n",
              "      <td>4</td>\n",
              "      <td>2.5</td>\n",
              "      <td>2</td>\n",
              "      <td>0</td>\n",
              "      <td>Home Owner</td>\n",
              "      <td>0</td>\n",
              "      <td>0</td>\n",
              "      <td>0</td>\n",
              "      <td>1.0</td>\n",
              "      <td>0</td>\n",
              "    </tr>\n",
              "    <tr>\n",
              "      <th>14</th>\n",
              "      <td>15</td>\n",
              "      <td>67</td>\n",
              "      <td>F</td>\n",
              "      <td>41</td>\n",
              "      <td>112.0</td>\n",
              "      <td>91741</td>\n",
              "      <td>1</td>\n",
              "      <td>2.0</td>\n",
              "      <td>1</td>\n",
              "      <td>0</td>\n",
              "      <td>Home Owner</td>\n",
              "      <td>0</td>\n",
              "      <td>1</td>\n",
              "      <td>0</td>\n",
              "      <td>0.0</td>\n",
              "      <td>0</td>\n",
              "    </tr>\n",
              "    <tr>\n",
              "      <th>15</th>\n",
              "      <td>16</td>\n",
              "      <td>60</td>\n",
              "      <td>F</td>\n",
              "      <td>30</td>\n",
              "      <td>22.0</td>\n",
              "      <td>95054</td>\n",
              "      <td>1</td>\n",
              "      <td>1.5</td>\n",
              "      <td>3</td>\n",
              "      <td>0</td>\n",
              "      <td>Home Owner</td>\n",
              "      <td>0</td>\n",
              "      <td>0</td>\n",
              "      <td>0</td>\n",
              "      <td>1.0</td>\n",
              "      <td>1</td>\n",
              "    </tr>\n",
              "    <tr>\n",
              "      <th>16</th>\n",
              "      <td>17</td>\n",
              "      <td>38</td>\n",
              "      <td>M</td>\n",
              "      <td>14</td>\n",
              "      <td>130.0</td>\n",
              "      <td>95010</td>\n",
              "      <td>4</td>\n",
              "      <td>4.7</td>\n",
              "      <td>3</td>\n",
              "      <td>134</td>\n",
              "      <td>Rent</td>\n",
              "      <td>1</td>\n",
              "      <td>0</td>\n",
              "      <td>0</td>\n",
              "      <td>0.0</td>\n",
              "      <td>0</td>\n",
              "    </tr>\n",
              "    <tr>\n",
              "      <th>17</th>\n",
              "      <td>18</td>\n",
              "      <td>42</td>\n",
              "      <td>O</td>\n",
              "      <td>18</td>\n",
              "      <td>81.0</td>\n",
              "      <td>94305</td>\n",
              "      <td>4</td>\n",
              "      <td>2.4</td>\n",
              "      <td>1</td>\n",
              "      <td>0</td>\n",
              "      <td>Rent</td>\n",
              "      <td>0</td>\n",
              "      <td>0</td>\n",
              "      <td>0</td>\n",
              "      <td>0.0</td>\n",
              "      <td>0</td>\n",
              "    </tr>\n",
              "    <tr>\n",
              "      <th>18</th>\n",
              "      <td>19</td>\n",
              "      <td>46</td>\n",
              "      <td>M</td>\n",
              "      <td>21</td>\n",
              "      <td>193.0</td>\n",
              "      <td>91604</td>\n",
              "      <td>2</td>\n",
              "      <td>8.1</td>\n",
              "      <td>3</td>\n",
              "      <td>0</td>\n",
              "      <td>Rent</td>\n",
              "      <td>1</td>\n",
              "      <td>0</td>\n",
              "      <td>0</td>\n",
              "      <td>0.0</td>\n",
              "      <td>0</td>\n",
              "    </tr>\n",
              "    <tr>\n",
              "      <th>19</th>\n",
              "      <td>20</td>\n",
              "      <td>55</td>\n",
              "      <td>M</td>\n",
              "      <td>28</td>\n",
              "      <td>21.0</td>\n",
              "      <td>94720</td>\n",
              "      <td>1</td>\n",
              "      <td>0.5</td>\n",
              "      <td>2</td>\n",
              "      <td>0</td>\n",
              "      <td>Rent</td>\n",
              "      <td>0</td>\n",
              "      <td>1</td>\n",
              "      <td>0</td>\n",
              "      <td>0.0</td>\n",
              "      <td>1</td>\n",
              "    </tr>\n",
              "  </tbody>\n",
              "</table>\n",
              "</div>\n",
              "      <button class=\"colab-df-convert\" onclick=\"convertToInteractive('df-43082732-802a-4724-adb3-7b6e3795af1a')\"\n",
              "              title=\"Convert this dataframe to an interactive table.\"\n",
              "              style=\"display:none;\">\n",
              "\n",
              "  <svg xmlns=\"http://www.w3.org/2000/svg\" height=\"24px\"viewBox=\"0 0 24 24\"\n",
              "       width=\"24px\">\n",
              "    <path d=\"M0 0h24v24H0V0z\" fill=\"none\"/>\n",
              "    <path d=\"M18.56 5.44l.94 2.06.94-2.06 2.06-.94-2.06-.94-.94-2.06-.94 2.06-2.06.94zm-11 1L8.5 8.5l.94-2.06 2.06-.94-2.06-.94L8.5 2.5l-.94 2.06-2.06.94zm10 10l.94 2.06.94-2.06 2.06-.94-2.06-.94-.94-2.06-.94 2.06-2.06.94z\"/><path d=\"M17.41 7.96l-1.37-1.37c-.4-.4-.92-.59-1.43-.59-.52 0-1.04.2-1.43.59L10.3 9.45l-7.72 7.72c-.78.78-.78 2.05 0 2.83L4 21.41c.39.39.9.59 1.41.59.51 0 1.02-.2 1.41-.59l7.78-7.78 2.81-2.81c.8-.78.8-2.07 0-2.86zM5.41 20L4 18.59l7.72-7.72 1.47 1.35L5.41 20z\"/>\n",
              "  </svg>\n",
              "      </button>\n",
              "\n",
              "\n",
              "\n",
              "    <div id=\"df-dd74c218-4d46-49ac-b843-537559058fd4\">\n",
              "      <button class=\"colab-df-quickchart\" onclick=\"quickchart('df-dd74c218-4d46-49ac-b843-537559058fd4')\"\n",
              "              title=\"Suggest charts.\"\n",
              "              style=\"display:none;\">\n",
              "\n",
              "<svg xmlns=\"http://www.w3.org/2000/svg\" height=\"24px\"viewBox=\"0 0 24 24\"\n",
              "     width=\"24px\">\n",
              "    <g>\n",
              "        <path d=\"M19 3H5c-1.1 0-2 .9-2 2v14c0 1.1.9 2 2 2h14c1.1 0 2-.9 2-2V5c0-1.1-.9-2-2-2zM9 17H7v-7h2v7zm4 0h-2V7h2v10zm4 0h-2v-4h2v4z\"/>\n",
              "    </g>\n",
              "</svg>\n",
              "      </button>\n",
              "    </div>\n",
              "\n",
              "<style>\n",
              "  .colab-df-quickchart {\n",
              "    background-color: #E8F0FE;\n",
              "    border: none;\n",
              "    border-radius: 50%;\n",
              "    cursor: pointer;\n",
              "    display: none;\n",
              "    fill: #1967D2;\n",
              "    height: 32px;\n",
              "    padding: 0 0 0 0;\n",
              "    width: 32px;\n",
              "  }\n",
              "\n",
              "  .colab-df-quickchart:hover {\n",
              "    background-color: #E2EBFA;\n",
              "    box-shadow: 0px 1px 2px rgba(60, 64, 67, 0.3), 0px 1px 3px 1px rgba(60, 64, 67, 0.15);\n",
              "    fill: #174EA6;\n",
              "  }\n",
              "\n",
              "  [theme=dark] .colab-df-quickchart {\n",
              "    background-color: #3B4455;\n",
              "    fill: #D2E3FC;\n",
              "  }\n",
              "\n",
              "  [theme=dark] .colab-df-quickchart:hover {\n",
              "    background-color: #434B5C;\n",
              "    box-shadow: 0px 1px 3px 1px rgba(0, 0, 0, 0.15);\n",
              "    filter: drop-shadow(0px 1px 2px rgba(0, 0, 0, 0.3));\n",
              "    fill: #FFFFFF;\n",
              "  }\n",
              "</style>\n",
              "\n",
              "    <script>\n",
              "      async function quickchart(key) {\n",
              "        const containerElement = document.querySelector('#' + key);\n",
              "        const charts = await google.colab.kernel.invokeFunction(\n",
              "            'suggestCharts', [key], {});\n",
              "      }\n",
              "    </script>\n",
              "\n",
              "      <script>\n",
              "\n",
              "function displayQuickchartButton(domScope) {\n",
              "  let quickchartButtonEl =\n",
              "    domScope.querySelector('#df-dd74c218-4d46-49ac-b843-537559058fd4 button.colab-df-quickchart');\n",
              "  quickchartButtonEl.style.display =\n",
              "    google.colab.kernel.accessAllowed ? 'block' : 'none';\n",
              "}\n",
              "\n",
              "        displayQuickchartButton(document);\n",
              "      </script>\n",
              "      <style>\n",
              "    .colab-df-container {\n",
              "      display:flex;\n",
              "      flex-wrap:wrap;\n",
              "      gap: 12px;\n",
              "    }\n",
              "\n",
              "    .colab-df-convert {\n",
              "      background-color: #E8F0FE;\n",
              "      border: none;\n",
              "      border-radius: 50%;\n",
              "      cursor: pointer;\n",
              "      display: none;\n",
              "      fill: #1967D2;\n",
              "      height: 32px;\n",
              "      padding: 0 0 0 0;\n",
              "      width: 32px;\n",
              "    }\n",
              "\n",
              "    .colab-df-convert:hover {\n",
              "      background-color: #E2EBFA;\n",
              "      box-shadow: 0px 1px 2px rgba(60, 64, 67, 0.3), 0px 1px 3px 1px rgba(60, 64, 67, 0.15);\n",
              "      fill: #174EA6;\n",
              "    }\n",
              "\n",
              "    [theme=dark] .colab-df-convert {\n",
              "      background-color: #3B4455;\n",
              "      fill: #D2E3FC;\n",
              "    }\n",
              "\n",
              "    [theme=dark] .colab-df-convert:hover {\n",
              "      background-color: #434B5C;\n",
              "      box-shadow: 0px 1px 3px 1px rgba(0, 0, 0, 0.15);\n",
              "      filter: drop-shadow(0px 1px 2px rgba(0, 0, 0, 0.3));\n",
              "      fill: #FFFFFF;\n",
              "    }\n",
              "  </style>\n",
              "\n",
              "      <script>\n",
              "        const buttonEl =\n",
              "          document.querySelector('#df-43082732-802a-4724-adb3-7b6e3795af1a button.colab-df-convert');\n",
              "        buttonEl.style.display =\n",
              "          google.colab.kernel.accessAllowed ? 'block' : 'none';\n",
              "\n",
              "        async function convertToInteractive(key) {\n",
              "          const element = document.querySelector('#df-43082732-802a-4724-adb3-7b6e3795af1a');\n",
              "          const dataTable =\n",
              "            await google.colab.kernel.invokeFunction('convertToInteractive',\n",
              "                                                     [key], {});\n",
              "          if (!dataTable) return;\n",
              "\n",
              "          const docLinkHtml = 'Like what you see? Visit the ' +\n",
              "            '<a target=\"_blank\" href=https://colab.research.google.com/notebooks/data_table.ipynb>data table notebook</a>'\n",
              "            + ' to learn more about interactive tables.';\n",
              "          element.innerHTML = '';\n",
              "          dataTable['output_type'] = 'display_data';\n",
              "          await google.colab.output.renderOutput(dataTable, element);\n",
              "          const docLink = document.createElement('div');\n",
              "          docLink.innerHTML = docLinkHtml;\n",
              "          element.appendChild(docLink);\n",
              "        }\n",
              "      </script>\n",
              "    </div>\n",
              "  </div>\n"
            ]
          },
          "metadata": {},
          "execution_count": 169
        }
      ],
      "source": [
        "#visualizing the data\n",
        "loan_data.head(20)"
      ]
    },
    {
      "cell_type": "code",
      "execution_count": 170,
      "id": "55a9fc0f",
      "metadata": {
        "colab": {
          "base_uri": "https://localhost:8080/"
        },
        "id": "55a9fc0f",
        "outputId": "eea3285d-4361-49a4-bfd0-fb688e47e2eb"
      },
      "outputs": [
        {
          "output_type": "execute_result",
          "data": {
            "text/plain": [
              "(5000, 16)"
            ]
          },
          "metadata": {},
          "execution_count": 170
        }
      ],
      "source": [
        "#checking number of rows and columns in the dataset\n",
        "loan_data.shape"
      ]
    },
    {
      "cell_type": "code",
      "execution_count": 171,
      "id": "8f9fe765",
      "metadata": {
        "colab": {
          "base_uri": "https://localhost:8080/"
        },
        "id": "8f9fe765",
        "outputId": "944bc6c2-eca4-4bc6-98e6-67778948110d"
      },
      "outputs": [
        {
          "output_type": "execute_result",
          "data": {
            "text/plain": [
              "Index(['ID', 'Age', 'Gender', 'Experience', 'Income', 'ZIP Code', 'Family',\n",
              "       'CCAvg', 'Education', 'Mortgage', 'Home Ownership', 'Personal Loan',\n",
              "       'Securities Account', 'CD Account', 'Online', 'CreditCard'],\n",
              "      dtype='object')"
            ]
          },
          "metadata": {},
          "execution_count": 171
        }
      ],
      "source": [
        "#checking the columns\n",
        "loan_data.keys()"
      ]
    },
    {
      "cell_type": "code",
      "execution_count": 172,
      "id": "e21a09c4",
      "metadata": {
        "id": "e21a09c4"
      },
      "outputs": [],
      "source": [
        "#dropping unnecessary columns\n",
        "loan_data = loan_data.drop(['ID','ZIP Code'], axis = 1)"
      ]
    },
    {
      "cell_type": "code",
      "execution_count": 173,
      "id": "3cfe6df1",
      "metadata": {
        "colab": {
          "base_uri": "https://localhost:8080/"
        },
        "id": "3cfe6df1",
        "outputId": "5f61ea1a-ccd3-4dff-a75e-40922f44a066"
      },
      "outputs": [
        {
          "output_type": "execute_result",
          "data": {
            "text/plain": [
              "Age                      0\n",
              "Gender                1596\n",
              "Experience               0\n",
              "Income                  67\n",
              "Family                   0\n",
              "CCAvg                    0\n",
              "Education                0\n",
              "Mortgage                 0\n",
              "Home Ownership        1189\n",
              "Personal Loan            0\n",
              "Securities Account       0\n",
              "CD Account               0\n",
              "Online                  40\n",
              "CreditCard               0\n",
              "dtype: int64"
            ]
          },
          "metadata": {},
          "execution_count": 173
        }
      ],
      "source": [
        "#check for null values\n",
        "loan_data.isna().sum()"
      ]
    },
    {
      "cell_type": "code",
      "execution_count": 179,
      "id": "8616a9f5",
      "metadata": {
        "colab": {
          "base_uri": "https://localhost:8080/",
          "height": 519
        },
        "id": "8616a9f5",
        "outputId": "2f5eb42f-9c52-4a98-e527-fe870c8e4237"
      },
      "outputs": [
        {
          "output_type": "execute_result",
          "data": {
            "text/plain": [
              "<Axes: >"
            ]
          },
          "metadata": {},
          "execution_count": 179
        },
        {
          "output_type": "display_data",
          "data": {
            "text/plain": [
              "<Figure size 1300x300 with 3 Axes>"
            ],
            "image/png": "[encoded data removed]"
          },
          "metadata": {}
        }
      ],
      "source": [
        "#checking missing values with mean and median using missingno package\n",
        "msno.bar(loan_data,figsize=(13,3))"
      ]
    },
    {
      "cell_type": "code",
      "execution_count": 180,
      "id": "9a5f8552",
      "metadata": {
        "id": "9a5f8552"
      },
      "outputs": [],
      "source": [
        "#dropping columns having too much null values\n",
        "loan_data = loan_data.drop(['Gender'], axis = 1)"
      ]
    },
    {
      "cell_type": "code",
      "execution_count": 181,
      "id": "c9adb90e",
      "metadata": {
        "id": "c9adb90e"
      },
      "outputs": [],
      "source": [
        "#replacing null values with mean\n",
        "loan_data['Income'].fillna(loan_data['Income'].mean(), inplace=True)"
      ]
    },
    {
      "cell_type": "code",
      "execution_count": 182,
      "id": "23cb7e9b",
      "metadata": {
        "id": "23cb7e9b"
      },
      "outputs": [],
      "source": [
        "# replacing null value for categorical data using imputer\n",
        "impute_mode = SimpleImputer(strategy = 'most_frequent')\n",
        "impute_mode.fit(loan_data[['Online']])\n",
        "loan_data[['Online']] = impute_mode.transform(loan_data[['Online']])"
      ]
    },
    {
      "cell_type": "code",
      "execution_count": 183,
      "id": "14b6c161",
      "metadata": {
        "id": "14b6c161"
      },
      "outputs": [],
      "source": [
        "# replacing null value for categorical data using imputer\n",
        "impute_mode = SimpleImputer(strategy = 'most_frequent')\n",
        "impute_mode.fit(loan_data[['Home Ownership']])\n",
        "loan_data[['Home Ownership']] = impute_mode.transform(loan_data[['Home Ownership']])"
      ]
    },
    {
      "cell_type": "code",
      "execution_count": 184,
      "id": "fb66c348",
      "metadata": {
        "colab": {
          "base_uri": "https://localhost:8080/"
        },
        "id": "fb66c348",
        "outputId": "157bdb6b-a3aa-40e4-9285-570e02e2ff22"
      },
      "outputs": [
        {
          "output_type": "execute_result",
          "data": {
            "text/plain": [
              "Age                   0\n",
              "Experience            0\n",
              "Income                0\n",
              "Family                0\n",
              "CCAvg                 0\n",
              "Education             0\n",
              "Mortgage              0\n",
              "Home Ownership        0\n",
              "Personal Loan         0\n",
              "Securities Account    0\n",
              "CD Account            0\n",
              "Online                0\n",
              "CreditCard            0\n",
              "dtype: int64"
            ]
          },
          "metadata": {},
          "execution_count": 184
        }
      ],
      "source": [
        "#checking null values\n",
        "loan_data.isna().sum()"
      ]
    },
    {
      "cell_type": "code",
      "execution_count": 185,
      "id": "cde0cbdd",
      "metadata": {
        "colab": {
          "base_uri": "https://localhost:8080/"
        },
        "id": "cde0cbdd",
        "outputId": "120175f0-d332-4af6-e9bb-2230f6558617"
      },
      "outputs": [
        {
          "output_type": "stream",
          "name": "stdout",
          "text": [
            "Age                   False\n",
            "Experience            False\n",
            "Income                False\n",
            "Family                False\n",
            "CCAvg                 False\n",
            "Education             False\n",
            "Mortgage              False\n",
            "Home Ownership         True\n",
            "Personal Loan          True\n",
            "Securities Account    False\n",
            "CD Account            False\n",
            "Online                False\n",
            "CreditCard            False\n",
            "dtype: bool\n"
          ]
        }
      ],
      "source": [
        "#check for categorical data\n",
        "cat_data = (loan_data.dtypes == 'object')\n",
        "print(cat_data)"
      ]
    },
    {
      "cell_type": "code",
      "execution_count": 187,
      "id": "dc4cac0e",
      "metadata": {
        "colab": {
          "base_uri": "https://localhost:8080/",
          "height": 472
        },
        "id": "dc4cac0e",
        "outputId": "366c64f4-3743-41e5-c781-8d3fdb79a34e"
      },
      "outputs": [
        {
          "output_type": "display_data",
          "data": {
            "text/plain": [
              "<Figure size 640x480 with 1 Axes>"
            ],
            "image/png": "[encoded data removed]"
          },
          "metadata": {}
        }
      ],
      "source": [
        "# Get count of each category\n",
        "count = loan_data['Home Ownership'].value_counts()\n",
        "plt.bar(count.index, count.values)\n",
        "plt.xlabel('Home Ownership')\n",
        "plt.ylabel('Count')\n",
        "plt.title('Home Ownership Distribution')\n",
        "plt.show()"
      ]
    },
    {
      "cell_type": "code",
      "execution_count": 188,
      "id": "2317e5d6",
      "metadata": {
        "colab": {
          "base_uri": "https://localhost:8080/",
          "height": 428
        },
        "id": "2317e5d6",
        "outputId": "ab1b4e85-8d1c-4ec5-a612-1dc4962c1ce2"
      },
      "outputs": [
        {
          "output_type": "display_data",
          "data": {
            "text/plain": [
              "<Figure size 640x480 with 1 Axes>"
            ],
            "image/png": "[encoded data removed]"
          },
          "metadata": {}
        }
      ],
      "source": [
        "#pie chart to show number of counts of education degree\n",
        "count = loan_data['Education'].value_counts()\n",
        "#assigning labels\n",
        "label_names = ['Bachelor\\'s degree', 'master\\'s degree', 'advanced/professional degree']\n",
        "# Plotting pie chart\n",
        "plt.pie(count.values, labels=label_names, autopct='%1.1f%%')\n",
        "plt.title('Education Distribution')\n",
        "plt.show()"
      ]
    },
    {
      "cell_type": "code",
      "execution_count": 189,
      "id": "6e6e17f6",
      "metadata": {
        "colab": {
          "base_uri": "https://localhost:8080/"
        },
        "id": "6e6e17f6",
        "outputId": "1dae8769-8fce-48f9-a178-6f904eb86856"
      },
      "outputs": [
        {
          "output_type": "execute_result",
          "data": {
            "text/plain": [
              "array(['Home Owner', 'Rent', 'Home Mortage'], dtype=object)"
            ]
          },
          "metadata": {},
          "execution_count": 189
        }
      ],
      "source": [
        "#checking categorical data\n",
        "loan_data['Home Ownership'].unique()"
      ]
    },
    {
      "cell_type": "code",
      "execution_count": 190,
      "id": "65bad70f",
      "metadata": {
        "id": "65bad70f"
      },
      "outputs": [],
      "source": [
        "#converting categorical data into numerical format\n",
        "mapping = {'Home Owner': 1, 'Rent': 2, 'Home Mortage': 3}\n",
        "\n",
        "# Replace the categorical column with numerical values\n",
        "loan_data['Home Ownership'] = loan_data['Home Ownership'].replace(mapping)"
      ]
    },
    {
      "cell_type": "code",
      "execution_count": 191,
      "id": "86999fe4",
      "metadata": {
        "colab": {
          "base_uri": "https://localhost:8080/",
          "height": 218
        },
        "id": "86999fe4",
        "outputId": "e3236a74-ab42-4050-9fea-07c1e99aeb80"
      },
      "outputs": [
        {
          "output_type": "execute_result",
          "data": {
            "text/plain": [
              "      Age  Experience  Income  Family  CCAvg  Education  Mortgage  \\\n",
              "2031   60          35    80.0       3    0.5          1         0   \n",
              "4616   66          41   114.0       1    0.8          3         0   \n",
              "4744   44          20    72.0       3    0.3          3         0   \n",
              "4746   31           7    18.0       1    0.4          3         0   \n",
              "\n",
              "      Home Ownership Personal Loan  Securities Account  CD Account  Online  \\\n",
              "2031               3             0                   0           0     1.0   \n",
              "4616               3             0                   0           0     1.0   \n",
              "4744               3             0                   0           0     1.0   \n",
              "4746               3             0                   0           0     1.0   \n",
              "\n",
              "      CreditCard  \n",
              "2031           0  \n",
              "4616           1  \n",
              "4744           0  \n",
              "4746           0  "
            ],
            "text/html": [
              "\n",
              "\n",
              "  <div id=\"df-456d1c8b-fd61-44c5-b946-fc69c857b336\">\n",
              "    <div class=\"colab-df-container\">\n",
              "      <div>\n",
              "<style scoped>\n",
              "    .dataframe tbody tr th:only-of-type {\n",
              "        vertical-align: middle;\n",
              "    }\n",
              "\n",
              "    .dataframe tbody tr th {\n",
              "        vertical-align: top;\n",
              "    }\n",
              "\n",
              "    .dataframe thead th {\n",
              "        text-align: right;\n",
              "    }\n",
              "</style>\n",
              "<table border=\"1\" class=\"dataframe\">\n",
              "  <thead>\n",
              "    <tr style=\"text-align: right;\">\n",
              "      <th></th>\n",
              "      <th>Age</th>\n",
              "      <th>Experience</th>\n",
              "      <th>Income</th>\n",
              "      <th>Family</th>\n",
              "      <th>CCAvg</th>\n",
              "      <th>Education</th>\n",
              "      <th>Mortgage</th>\n",
              "      <th>Home Ownership</th>\n",
              "      <th>Personal Loan</th>\n",
              "      <th>Securities Account</th>\n",
              "      <th>CD Account</th>\n",
              "      <th>Online</th>\n",
              "      <th>CreditCard</th>\n",
              "    </tr>\n",
              "  </thead>\n",
              "  <tbody>\n",
              "    <tr>\n",
              "      <th>2031</th>\n",
              "      <td>60</td>\n",
              "      <td>35</td>\n",
              "      <td>80.0</td>\n",
              "      <td>3</td>\n",
              "      <td>0.5</td>\n",
              "      <td>1</td>\n",
              "      <td>0</td>\n",
              "      <td>3</td>\n",
              "      <td>0</td>\n",
              "      <td>0</td>\n",
              "      <td>0</td>\n",
              "      <td>1.0</td>\n",
              "      <td>0</td>\n",
              "    </tr>\n",
              "    <tr>\n",
              "      <th>4616</th>\n",
              "      <td>66</td>\n",
              "      <td>41</td>\n",
              "      <td>114.0</td>\n",
              "      <td>1</td>\n",
              "      <td>0.8</td>\n",
              "      <td>3</td>\n",
              "      <td>0</td>\n",
              "      <td>3</td>\n",
              "      <td>0</td>\n",
              "      <td>0</td>\n",
              "      <td>0</td>\n",
              "      <td>1.0</td>\n",
              "      <td>1</td>\n",
              "    </tr>\n",
              "    <tr>\n",
              "      <th>4744</th>\n",
              "      <td>44</td>\n",
              "      <td>20</td>\n",
              "      <td>72.0</td>\n",
              "      <td>3</td>\n",
              "      <td>0.3</td>\n",
              "      <td>3</td>\n",
              "      <td>0</td>\n",
              "      <td>3</td>\n",
              "      <td>0</td>\n",
              "      <td>0</td>\n",
              "      <td>0</td>\n",
              "      <td>1.0</td>\n",
              "      <td>0</td>\n",
              "    </tr>\n",
              "    <tr>\n",
              "      <th>4746</th>\n",
              "      <td>31</td>\n",
              "      <td>7</td>\n",
              "      <td>18.0</td>\n",
              "      <td>1</td>\n",
              "      <td>0.4</td>\n",
              "      <td>3</td>\n",
              "      <td>0</td>\n",
              "      <td>3</td>\n",
              "      <td>0</td>\n",
              "      <td>0</td>\n",
              "      <td>0</td>\n",
              "      <td>1.0</td>\n",
              "      <td>0</td>\n",
              "    </tr>\n",
              "  </tbody>\n",
              "</table>\n",
              "</div>\n",
              "      <button class=\"colab-df-convert\" onclick=\"convertToInteractive('df-456d1c8b-fd61-44c5-b946-fc69c857b336')\"\n",
              "              title=\"Convert this dataframe to an interactive table.\"\n",
              "              style=\"display:none;\">\n",
              "\n",
              "  <svg xmlns=\"http://www.w3.org/2000/svg\" height=\"24px\"viewBox=\"0 0 24 24\"\n",
              "       width=\"24px\">\n",
              "    <path d=\"M0 0h24v24H0V0z\" fill=\"none\"/>\n",
              "    <path d=\"M18.56 5.44l.94 2.06.94-2.06 2.06-.94-2.06-.94-.94-2.06-.94 2.06-2.06.94zm-11 1L8.5 8.5l.94-2.06 2.06-.94-2.06-.94L8.5 2.5l-.94 2.06-2.06.94zm10 10l.94 2.06.94-2.06 2.06-.94-2.06-.94-.94-2.06-.94 2.06-2.06.94z\"/><path d=\"M17.41 7.96l-1.37-1.37c-.4-.4-.92-.59-1.43-.59-.52 0-1.04.2-1.43.59L10.3 9.45l-7.72 7.72c-.78.78-.78 2.05 0 2.83L4 21.41c.39.39.9.59 1.41.59.51 0 1.02-.2 1.41-.59l7.78-7.78 2.81-2.81c.8-.78.8-2.07 0-2.86zM5.41 20L4 18.59l7.72-7.72 1.47 1.35L5.41 20z\"/>\n",
              "  </svg>\n",
              "      </button>\n",
              "\n",
              "\n",
              "\n",
              "    <div id=\"df-9f0af457-7ed8-45ae-85c2-532b032e12b1\">\n",
              "      <button class=\"colab-df-quickchart\" onclick=\"quickchart('df-9f0af457-7ed8-45ae-85c2-532b032e12b1')\"\n",
              "              title=\"Suggest charts.\"\n",
              "              style=\"display:none;\">\n",
              "\n",
              "<svg xmlns=\"http://www.w3.org/2000/svg\" height=\"24px\"viewBox=\"0 0 24 24\"\n",
              "     width=\"24px\">\n",
              "    <g>\n",
              "        <path d=\"M19 3H5c-1.1 0-2 .9-2 2v14c0 1.1.9 2 2 2h14c1.1 0 2-.9 2-2V5c0-1.1-.9-2-2-2zM9 17H7v-7h2v7zm4 0h-2V7h2v10zm4 0h-2v-4h2v4z\"/>\n",
              "    </g>\n",
              "</svg>\n",
              "      </button>\n",
              "    </div>\n",
              "\n",
              "<style>\n",
              "  .colab-df-quickchart {\n",
              "    background-color: #E8F0FE;\n",
              "    border: none;\n",
              "    border-radius: 50%;\n",
              "    cursor: pointer;\n",
              "    display: none;\n",
              "    fill: #1967D2;\n",
              "    height: 32px;\n",
              "    padding: 0 0 0 0;\n",
              "    width: 32px;\n",
              "  }\n",
              "\n",
              "  .colab-df-quickchart:hover {\n",
              "    background-color: #E2EBFA;\n",
              "    box-shadow: 0px 1px 2px rgba(60, 64, 67, 0.3), 0px 1px 3px 1px rgba(60, 64, 67, 0.15);\n",
              "    fill: #174EA6;\n",
              "  }\n",
              "\n",
              "  [theme=dark] .colab-df-quickchart {\n",
              "    background-color: #3B4455;\n",
              "    fill: #D2E3FC;\n",
              "  }\n",
              "\n",
              "  [theme=dark] .colab-df-quickchart:hover {\n",
              "    background-color: #434B5C;\n",
              "    box-shadow: 0px 1px 3px 1px rgba(0, 0, 0, 0.15);\n",
              "    filter: drop-shadow(0px 1px 2px rgba(0, 0, 0, 0.3));\n",
              "    fill: #FFFFFF;\n",
              "  }\n",
              "</style>\n",
              "\n",
              "    <script>\n",
              "      async function quickchart(key) {\n",
              "        const containerElement = document.querySelector('#' + key);\n",
              "        const charts = await google.colab.kernel.invokeFunction(\n",
              "            'suggestCharts', [key], {});\n",
              "      }\n",
              "    </script>\n",
              "\n",
              "      <script>\n",
              "\n",
              "function displayQuickchartButton(domScope) {\n",
              "  let quickchartButtonEl =\n",
              "    domScope.querySelector('#df-9f0af457-7ed8-45ae-85c2-532b032e12b1 button.colab-df-quickchart');\n",
              "  quickchartButtonEl.style.display =\n",
              "    google.colab.kernel.accessAllowed ? 'block' : 'none';\n",
              "}\n",
              "\n",
              "        displayQuickchartButton(document);\n",
              "      </script>\n",
              "      <style>\n",
              "    .colab-df-container {\n",
              "      display:flex;\n",
              "      flex-wrap:wrap;\n",
              "      gap: 12px;\n",
              "    }\n",
              "\n",
              "    .colab-df-convert {\n",
              "      background-color: #E8F0FE;\n",
              "      border: none;\n",
              "      border-radius: 50%;\n",
              "      cursor: pointer;\n",
              "      display: none;\n",
              "      fill: #1967D2;\n",
              "      height: 32px;\n",
              "      padding: 0 0 0 0;\n",
              "      width: 32px;\n",
              "    }\n",
              "\n",
              "    .colab-df-convert:hover {\n",
              "      background-color: #E2EBFA;\n",
              "      box-shadow: 0px 1px 2px rgba(60, 64, 67, 0.3), 0px 1px 3px 1px rgba(60, 64, 67, 0.15);\n",
              "      fill: #174EA6;\n",
              "    }\n",
              "\n",
              "    [theme=dark] .colab-df-convert {\n",
              "      background-color: #3B4455;\n",
              "      fill: #D2E3FC;\n",
              "    }\n",
              "\n",
              "    [theme=dark] .colab-df-convert:hover {\n",
              "      background-color: #434B5C;\n",
              "      box-shadow: 0px 1px 3px 1px rgba(0, 0, 0, 0.15);\n",
              "      filter: drop-shadow(0px 1px 2px rgba(0, 0, 0, 0.3));\n",
              "      fill: #FFFFFF;\n",
              "    }\n",
              "  </style>\n",
              "\n",
              "      <script>\n",
              "        const buttonEl =\n",
              "          document.querySelector('#df-456d1c8b-fd61-44c5-b946-fc69c857b336 button.colab-df-convert');\n",
              "        buttonEl.style.display =\n",
              "          google.colab.kernel.accessAllowed ? 'block' : 'none';\n",
              "\n",
              "        async function convertToInteractive(key) {\n",
              "          const element = document.querySelector('#df-456d1c8b-fd61-44c5-b946-fc69c857b336');\n",
              "          const dataTable =\n",
              "            await google.colab.kernel.invokeFunction('convertToInteractive',\n",
              "                                                     [key], {});\n",
              "          if (!dataTable) return;\n",
              "\n",
              "          const docLinkHtml = 'Like what you see? Visit the ' +\n",
              "            '<a target=\"_blank\" href=https://colab.research.google.com/notebooks/data_table.ipynb>data table notebook</a>'\n",
              "            + ' to learn more about interactive tables.';\n",
              "          element.innerHTML = '';\n",
              "          dataTable['output_type'] = 'display_data';\n",
              "          await google.colab.output.renderOutput(dataTable, element);\n",
              "          const docLink = document.createElement('div');\n",
              "          docLink.innerHTML = docLinkHtml;\n",
              "          element.appendChild(docLink);\n",
              "        }\n",
              "      </script>\n",
              "    </div>\n",
              "  </div>\n"
            ]
          },
          "metadata": {},
          "execution_count": 191
        }
      ],
      "source": [
        "#checking for duplicate rows\n",
        "loan_data[loan_data.duplicated()]"
      ]
    },
    {
      "cell_type": "code",
      "execution_count": 192,
      "id": "cc4aac32",
      "metadata": {
        "id": "cc4aac32"
      },
      "outputs": [],
      "source": [
        "#dropping the duplicate rows\n",
        "loan_data = loan_data.drop_duplicates()"
      ]
    },
    {
      "cell_type": "code",
      "execution_count": 193,
      "id": "e0ea494c",
      "metadata": {
        "colab": {
          "base_uri": "https://localhost:8080/"
        },
        "id": "e0ea494c",
        "outputId": "e81bbd88-7411-48fb-8b21-99ae24748333"
      },
      "outputs": [
        {
          "output_type": "execute_result",
          "data": {
            "text/plain": [
              "(4996, 13)"
            ]
          },
          "metadata": {},
          "execution_count": 193
        }
      ],
      "source": [
        "#checking the shape of data after deleting duplicate rows\n",
        "loan_data.shape"
      ]
    },
    {
      "cell_type": "code",
      "execution_count": 194,
      "id": "a7c14b8b",
      "metadata": {
        "colab": {
          "base_uri": "https://localhost:8080/"
        },
        "id": "a7c14b8b",
        "outputId": "e0656620-3336-4af2-8a13-b5a062e1f7cc"
      },
      "outputs": [
        {
          "output_type": "execute_result",
          "data": {
            "text/plain": [
              "array([0, 1, ' '], dtype=object)"
            ]
          },
          "metadata": {},
          "execution_count": 194
        }
      ],
      "source": [
        "#checking for unique label values\n",
        "loan_data['Personal Loan'].unique()"
      ]
    },
    {
      "cell_type": "code",
      "execution_count": 195,
      "id": "b86c0159",
      "metadata": {
        "colab": {
          "base_uri": "https://localhost:8080/"
        },
        "id": "b86c0159",
        "outputId": "4f6381de-e308-455d-cacb-8442d22d4696"
      },
      "outputs": [
        {
          "output_type": "execute_result",
          "data": {
            "text/plain": [
              "0    4516\n",
              "1     479\n",
              "        1\n",
              "Name: Personal Loan, dtype: int64"
            ]
          },
          "metadata": {},
          "execution_count": 195
        }
      ],
      "source": [
        "#checking number of values for label\n",
        "loan_data['Personal Loan'].value_counts()"
      ]
    },
    {
      "cell_type": "code",
      "execution_count": 196,
      "id": "96918ee3",
      "metadata": {
        "id": "96918ee3"
      },
      "outputs": [],
      "source": [
        "#dropping the null label\n",
        "loan_data = loan_data.drop(loan_data[loan_data['Personal Loan'] == ' '].index)"
      ]
    },
    {
      "cell_type": "code",
      "execution_count": 197,
      "id": "1dc93e73",
      "metadata": {
        "colab": {
          "base_uri": "https://localhost:8080/"
        },
        "id": "1dc93e73",
        "outputId": "313a5afd-7fa4-484d-fb64-fc3f35e0e99d"
      },
      "outputs": [
        {
          "output_type": "execute_result",
          "data": {
            "text/plain": [
              "0    4516\n",
              "1     479\n",
              "Name: Personal Loan, dtype: int64"
            ]
          },
          "metadata": {},
          "execution_count": 197
        }
      ],
      "source": [
        "loan_data['Personal Loan'].value_counts()"
      ]
    },
    {
      "cell_type": "code",
      "execution_count": 198,
      "id": "98490b13",
      "metadata": {
        "colab": {
          "base_uri": "https://localhost:8080/"
        },
        "id": "98490b13",
        "outputId": "2c6263e3-8ad7-4f04-9b04-7c275c5d1cca"
      },
      "outputs": [
        {
          "output_type": "execute_result",
          "data": {
            "text/plain": [
              "Index(['Age', 'Experience', 'Income', 'Family', 'CCAvg', 'Education',\n",
              "       'Mortgage', 'Home Ownership', 'Personal Loan', 'Securities Account',\n",
              "       'CD Account', 'Online', 'CreditCard'],\n",
              "      dtype='object')"
            ]
          },
          "metadata": {},
          "execution_count": 198
        }
      ],
      "source": [
        "loan_data.keys()"
      ]
    },
    {
      "cell_type": "code",
      "execution_count": 199,
      "id": "b313ceca",
      "metadata": {
        "scrolled": false,
        "colab": {
          "base_uri": "https://localhost:8080/",
          "height": 539
        },
        "id": "b313ceca",
        "outputId": "f10c8e56-35ac-46c0-884b-53a20c1fbf0d"
      },
      "outputs": [
        {
          "output_type": "execute_result",
          "data": {
            "text/plain": [
              "<Axes: >"
            ]
          },
          "metadata": {},
          "execution_count": 199
        },
        {
          "output_type": "display_data",
          "data": {
            "text/plain": [
              "<Figure size 600x600 with 1 Axes>"
            ],
            "image/png": "[encoded data removed]"
          },
          "metadata": {}
        }
      ],
      "source": [
        "#using box plot to detect outliers\n",
        "df = pd.DataFrame(loan_data, columns = ['Age'])\n",
        "plt.figure(figsize = (6, 6))\n",
        "df.boxplot()"
      ]
    },
    {
      "cell_type": "code",
      "execution_count": 200,
      "id": "a24b09be",
      "metadata": {
        "colab": {
          "base_uri": "https://localhost:8080/"
        },
        "id": "a24b09be",
        "outputId": "1eecd941-83a6-47fc-8542-347feb37e2c7"
      },
      "outputs": [
        {
          "output_type": "stream",
          "name": "stderr",
          "text": [
            "<ipython-input-200-f0595659a1c4>:2: SettingWithCopyWarning: \n",
            "A value is trying to be set on a copy of a slice from a DataFrame\n",
            "\n",
            "See the caveats in the documentation: https://pandas.pydata.org/pandas-docs/stable/user_guide/indexing.html#returning-a-view-versus-a-copy\n",
            "  loan_data['Age'].loc[(loan_data['Age'] < 18) | (loan_data['Age'] > 80)] = np.nan\n"
          ]
        }
      ],
      "source": [
        "#replacing outlier with null values\n",
        "loan_data['Age'].loc[(loan_data['Age'] < 18) | (loan_data['Age'] > 80)] = np.nan"
      ]
    },
    {
      "cell_type": "code",
      "execution_count": 201,
      "id": "678711a5",
      "metadata": {
        "id": "678711a5"
      },
      "outputs": [],
      "source": [
        "#replacing null data with mean\n",
        "loan_data['Age'].fillna(loan_data['Age'].mean(), inplace=True)"
      ]
    },
    {
      "cell_type": "code",
      "execution_count": 202,
      "id": "cbf1719a",
      "metadata": {
        "colab": {
          "base_uri": "https://localhost:8080/",
          "height": 851
        },
        "id": "cbf1719a",
        "outputId": "f9d49219-9db7-471b-f952-d3062c1d390f"
      },
      "outputs": [
        {
          "output_type": "stream",
          "name": "stderr",
          "text": [
            "<ipython-input-202-db5744390682>:2: FutureWarning: The default value of numeric_only in DataFrame.corr is deprecated. In a future version, it will default to False. Select only valid columns or specify the value of numeric_only to silence this warning.\n",
            "  sns.heatmap(loan_data.corr(), cmap='coolwarm', annot=True, fmt='.1f', linewidths=.1)\n"
          ]
        },
        {
          "output_type": "display_data",
          "data": {
            "text/plain": [
              "<Figure size 1200x800 with 2 Axes>"
            ],
            "image/png": "[encoded data removed]"
          },
          "metadata": {}
        }
      ],
      "source": [
        "#plotting heatmap to check relationship between the variables\n",
        "plt.figure(figsize=(12,8))\n",
        "sns.heatmap(loan_data.corr(), cmap='coolwarm', annot=True, fmt='.1f', linewidths=.1)\n",
        "plt.show()"
      ]
    },
    {
      "cell_type": "markdown",
      "id": "91d7d53b",
      "metadata": {
        "id": "91d7d53b"
      },
      "source": [
        "Train Test Split"
      ]
    },
    {
      "cell_type": "code",
      "execution_count": 203,
      "id": "40a2d3bc",
      "metadata": {
        "id": "40a2d3bc"
      },
      "outputs": [],
      "source": [
        "#dividing dataset into features and label\n",
        "X = loan_data.drop(['Personal Loan'],axis=1)\n",
        "y = loan_data['Personal Loan']\n"
      ]
    },
    {
      "cell_type": "code",
      "execution_count": 204,
      "id": "cb702bea",
      "metadata": {
        "colab": {
          "base_uri": "https://localhost:8080/"
        },
        "id": "cb702bea",
        "outputId": "cc2dddfe-6a80-4e23-b74c-12bd8ef940de"
      },
      "outputs": [
        {
          "output_type": "execute_result",
          "data": {
            "text/plain": [
              "array([0, 1], dtype=object)"
            ]
          },
          "metadata": {},
          "execution_count": 204
        }
      ],
      "source": [
        "#checking for all the labels present into the dataset\n",
        "loan_data['Personal Loan'].unique()"
      ]
    },
    {
      "cell_type": "code",
      "execution_count": 205,
      "id": "be6b96ad",
      "metadata": {
        "id": "be6b96ad"
      },
      "outputs": [],
      "source": [
        "#converting label to int\n",
        "y = y.astype('int')"
      ]
    },
    {
      "cell_type": "code",
      "execution_count": 206,
      "id": "bf497094",
      "metadata": {
        "id": "bf497094"
      },
      "outputs": [],
      "source": [
        "#feature scaling the data\n",
        "from sklearn.preprocessing import StandardScaler\n",
        "scale_features_std = StandardScaler()\n",
        "X = scale_features_std.fit_transform(X)"
      ]
    },
    {
      "cell_type": "code",
      "execution_count": 207,
      "id": "8354198b",
      "metadata": {
        "id": "8354198b"
      },
      "outputs": [],
      "source": [
        "#splitting the dataset into train and test set\n",
        "X_train, X_test, y_train, y_test = train_test_split(X, y, test_size=0.25, random_state=42)"
      ]
    },
    {
      "cell_type": "markdown",
      "id": "486228db",
      "metadata": {
        "id": "486228db"
      },
      "source": [
        "Training the ML model"
      ]
    },
    {
      "cell_type": "code",
      "execution_count": 208,
      "id": "2f2a07f8",
      "metadata": {
        "id": "2f2a07f8"
      },
      "outputs": [],
      "source": [
        "#model building\n",
        "logistic_model = LogisticRegression()"
      ]
    },
    {
      "cell_type": "code",
      "execution_count": 209,
      "id": "b6336c86",
      "metadata": {
        "colab": {
          "base_uri": "https://localhost:8080/",
          "height": 74
        },
        "id": "b6336c86",
        "outputId": "ea1784b7-0dea-42cb-c3c0-1d0abbbdfed9"
      },
      "outputs": [
        {
          "output_type": "execute_result",
          "data": {
            "text/plain": [
              "LogisticRegression()"
            ],
            "text/html": [
              "<style>#sk-container-id-2 {color: black;background-color: white;}#sk-container-id-2 pre{padding: 0;}#sk-container-id-2 div.sk-toggleable {background-color: white;}#sk-container-id-2 label.sk-toggleable__label {cursor: pointer;display: block;width: 100%;margin-bottom: 0;padding: 0.3em;box-sizing: border-box;text-align: center;}#sk-container-id-2 label.sk-toggleable__label-arrow:before {content: \"▸\";float: left;margin-right: 0.25em;color: #696969;}#sk-container-id-2 label.sk-toggleable__label-arrow:hover:before {color: black;}#sk-container-id-2 div.sk-estimator:hover label.sk-toggleable__label-arrow:before {color: black;}#sk-container-id-2 div.sk-toggleable__content {max-height: 0;max-width: 0;overflow: hidden;text-align: left;background-color: #f0f8ff;}#sk-container-id-2 div.sk-toggleable__content pre {margin: 0.2em;color: black;border-radius: 0.25em;background-color: #f0f8ff;}#sk-container-id-2 input.sk-toggleable__control:checked~div.sk-toggleable__content {max-height: 200px;max-width: 100%;overflow: auto;}#sk-container-id-2 input.sk-toggleable__control:checked~label.sk-toggleable__label-arrow:before {content: \"▾\";}#sk-container-id-2 div.sk-estimator input.sk-toggleable__control:checked~label.sk-toggleable__label {background-color: #d4ebff;}#sk-container-id-2 div.sk-label input.sk-toggleable__control:checked~label.sk-toggleable__label {background-color: #d4ebff;}#sk-container-id-2 input.sk-hidden--visually {border: 0;clip: rect(1px 1px 1px 1px);clip: rect(1px, 1px, 1px, 1px);height: 1px;margin: -1px;overflow: hidden;padding: 0;position: absolute;width: 1px;}#sk-container-id-2 div.sk-estimator {font-family: monospace;background-color: #f0f8ff;border: 1px dotted black;border-radius: 0.25em;box-sizing: border-box;margin-bottom: 0.5em;}#sk-container-id-2 div.sk-estimator:hover {background-color: #d4ebff;}#sk-container-id-2 div.sk-parallel-item::after {content: \"\";width: 100%;border-bottom: 1px solid gray;flex-grow: 1;}#sk-container-id-2 div.sk-label:hover label.sk-toggleable__label {background-color: #d4ebff;}#sk-container-id-2 div.sk-serial::before {content: \"\";position: absolute;border-left: 1px solid gray;box-sizing: border-box;top: 0;bottom: 0;left: 50%;z-index: 0;}#sk-container-id-2 div.sk-serial {display: flex;flex-direction: column;align-items: center;background-color: white;padding-right: 0.2em;padding-left: 0.2em;position: relative;}#sk-container-id-2 div.sk-item {position: relative;z-index: 1;}#sk-container-id-2 div.sk-parallel {display: flex;align-items: stretch;justify-content: center;background-color: white;position: relative;}#sk-container-id-2 div.sk-item::before, #sk-container-id-2 div.sk-parallel-item::before {content: \"\";position: absolute;border-left: 1px solid gray;box-sizing: border-box;top: 0;bottom: 0;left: 50%;z-index: -1;}#sk-container-id-2 div.sk-parallel-item {display: flex;flex-direction: column;z-index: 1;position: relative;background-color: white;}#sk-container-id-2 div.sk-parallel-item:first-child::after {align-self: flex-end;width: 50%;}#sk-container-id-2 div.sk-parallel-item:last-child::after {align-self: flex-start;width: 50%;}#sk-container-id-2 div.sk-parallel-item:only-child::after {width: 0;}#sk-container-id-2 div.sk-dashed-wrapped {border: 1px dashed gray;margin: 0 0.4em 0.5em 0.4em;box-sizing: border-box;padding-bottom: 0.4em;background-color: white;}#sk-container-id-2 div.sk-label label {font-family: monospace;font-weight: bold;display: inline-block;line-height: 1.2em;}#sk-container-id-2 div.sk-label-container {text-align: center;}#sk-container-id-2 div.sk-container {/* jupyter's `normalize.less` sets `[hidden] { display: none; }` but bootstrap.min.css set `[hidden] { display: none !important; }` so we also need the `!important` here to be able to override the default hidden behavior on the sphinx rendered scikit-learn.org. See: https://github.com/scikit-learn/scikit-learn/issues/21755 */display: inline-block !important;position: relative;}#sk-container-id-2 div.sk-text-repr-fallback {display: none;}</style><div id=\"sk-container-id-2\" class=\"sk-top-container\"><div class=\"sk-text-repr-fallback\"><pre>LogisticRegression()</pre><b>In a Jupyter environment, please rerun this cell to show the HTML representation or trust the notebook. <br />On GitHub, the HTML representation is unable to render, please try loading this page with nbviewer.org.</b></div><div class=\"sk-container\" hidden><div class=\"sk-item\"><div class=\"sk-estimator sk-toggleable\"><input class=\"sk-toggleable__control sk-hidden--visually\" id=\"sk-estimator-id-2\" type=\"checkbox\" checked><label for=\"sk-estimator-id-2\" class=\"sk-toggleable__label sk-toggleable__label-arrow\">LogisticRegression</label><div class=\"sk-toggleable__content\"><pre>LogisticRegression()</pre></div></div></div></div></div>"
            ]
          },
          "metadata": {},
          "execution_count": 209
        }
      ],
      "source": [
        "#model training\n",
        "logistic_model.fit(X_train, y_train)"
      ]
    },
    {
      "cell_type": "code",
      "execution_count": 210,
      "id": "bd4e25b0",
      "metadata": {
        "colab": {
          "base_uri": "https://localhost:8080/"
        },
        "id": "bd4e25b0",
        "outputId": "b06ecd74-bcc2-4025-a90f-a83ebfebc6ed"
      },
      "outputs": [
        {
          "output_type": "stream",
          "name": "stdout",
          "text": [
            "Logistic Regression model accuracy 93.99519615692554\n",
            "Precision: 0.9344235070112576\n",
            "Recall: 0.9399519615692554\n",
            "F1-score: 0.9348528114186887\n"
          ]
        }
      ],
      "source": [
        "#checking accuracy of the model\n",
        "y_pred = logistic_model.predict(X_test)\n",
        "precision = precision_score(y_test, y_pred, average='weighted')\n",
        "recall = recall_score(y_test, y_pred, average='weighted')\n",
        "f1 = f1_score(y_test, y_pred, average='weighted')\n",
        "print(\"Logistic Regression model accuracy\",metrics.accuracy_score(y_test, y_pred)*100)\n",
        "print(\"Precision:\", precision)\n",
        "print(\"Recall:\", recall)\n",
        "print(\"F1-score:\", f1)"
      ]
    },
    {
      "cell_type": "code",
      "execution_count": 211,
      "id": "1d3673de",
      "metadata": {
        "colab": {
          "base_uri": "https://localhost:8080/"
        },
        "id": "1d3673de",
        "outputId": "c22c5aae-2d97-47c4-f68c-02bde1b6266f"
      },
      "outputs": [
        {
          "output_type": "stream",
          "name": "stdout",
          "text": [
            "[0]\n"
          ]
        }
      ],
      "source": [
        "#making predictions\n",
        "pred_data = [[35,10,1,3,0.20,2,0,450,1,1,0,0]]\n",
        "output = logistic_model.predict(pred_data)\n",
        "print(output)"
      ]
    },
    {
      "cell_type": "code",
      "execution_count": 212,
      "id": "947d3794",
      "metadata": {
        "colab": {
          "base_uri": "https://localhost:8080/"
        },
        "id": "947d3794",
        "outputId": "7cd4a000-1daa-42c4-b3b6-f6e2c565105e"
      },
      "outputs": [
        {
          "output_type": "stream",
          "name": "stdout",
          "text": [
            "Drive already mounted at /content/gdrive; to attempt to forcibly remount, call drive.mount(\"/content/gdrive\", force_remount=True).\n"
          ]
        },
        {
          "output_type": "execute_result",
          "data": {
            "text/plain": [
              "['/content/gdrive/My Drive/logistic_regression_model.sav']"
            ]
          },
          "metadata": {},
          "execution_count": 212
        }
      ],
      "source": [
        "import joblib\n",
        "# Save the model using joblib\n",
        "from google.colab import drive\n",
        "drive.mount('/content/gdrive')\n",
        "filename = 'logistic_regression_model.sav'\n",
        "path = F\"/content/gdrive/My Drive/{filename}\"\n",
        "joblib.dump(logistic_model, path)\n",
        "\n"
      ]
    },
    {
      "cell_type": "code",
      "execution_count": 213,
      "id": "f190bfc6",
      "metadata": {
        "colab": {
          "base_uri": "https://localhost:8080/"
        },
        "id": "f190bfc6",
        "outputId": "0de015e7-63fb-4458-8b92-77639ddabd21"
      },
      "outputs": [
        {
          "output_type": "stream",
          "name": "stdout",
          "text": [
            "[0]\n"
          ]
        }
      ],
      "source": [
        "#loading the saved model for predictions\n",
        "model=joblib.load('logistic_regression_model.sav')\n",
        "res=model.predict([[35,10,1,3,0.20,2,0,450,1,1,0,0]])\n",
        "print(res)"
      ]
    },
    {
      "cell_type": "code",
      "source": [
        "#make prediction using saved model in drive\n",
        "model_name = 'logistic_regression_model.sav'\n",
        "path = F\"/content/gdrive/My Drive/{model_name}\"\n",
        "model=joblib.load(path)\n",
        "res=model.predict([[35,110,1,1,0.70,2,0,0,0,0,0,0]])\n",
        "print(res)"
      ],
      "metadata": {
        "colab": {
          "base_uri": "https://localhost:8080/"
        },
        "id": "TuRO5YNw6nD1",
        "outputId": "f604e659-4486-4df7-e810-f8df21ac9352"
      },
      "id": "TuRO5YNw6nD1",
      "execution_count": 166,
      "outputs": [
        {
          "output_type": "stream",
          "name": "stdout",
          "text": [
            "[1]\n"
          ]
        }
      ]
    },
    {
      "cell_type": "markdown",
      "id": "c2365182",
      "metadata": {
        "id": "c2365182"
      },
      "source": [
        "Using SVM"
      ]
    },
    {
      "cell_type": "code",
      "execution_count": 146,
      "id": "d08780d6",
      "metadata": {
        "colab": {
          "base_uri": "https://localhost:8080/"
        },
        "id": "d08780d6",
        "outputId": "272853c9-ff6d-4206-d71a-4791bbad48c3"
      },
      "outputs": [
        {
          "output_type": "stream",
          "name": "stdout",
          "text": [
            "Accuracy using SVC: 94.63570856685348\n",
            "Precision: 0.9428778824968198\n",
            "Recall: 0.9463570856685348\n",
            "F1-score: 0.9402331537985492\n"
          ]
        }
      ],
      "source": [
        "from sklearn.svm import SVC\n",
        "clf = SVC(kernel='linear')\n",
        "clf.fit(X_train, y_train)\n",
        "y_pred = clf.predict(X_test)\n",
        "precision = precision_score(y_test, y_pred, average='weighted')\n",
        "recall = recall_score(y_test, y_pred, average='weighted')\n",
        "f1 = f1_score(y_test, y_pred, average='weighted')\n",
        "print(\"Accuracy using SVC:\", metrics.accuracy_score(y_test, y_pred)*100)\n",
        "print(\"Precision:\", precision)\n",
        "print(\"Recall:\", recall)\n",
        "print(\"F1-score:\", f1)"
      ]
    },
    {
      "cell_type": "code",
      "execution_count": 147,
      "id": "05a16e35",
      "metadata": {
        "colab": {
          "base_uri": "https://localhost:8080/"
        },
        "id": "05a16e35",
        "outputId": "36bd54e7-a9fa-4b2f-ed4a-7455af0e3040"
      },
      "outputs": [
        {
          "output_type": "stream",
          "name": "stdout",
          "text": [
            "[1]\n"
          ]
        }
      ],
      "source": [
        "#make prediction using trained model\n",
        "pred_data = [[35,10,194,3,0.20,2,200,2,1,1,1,0]]\n",
        "output = clf.predict(pred_data)\n",
        "print(output)"
      ]
    },
    {
      "cell_type": "code",
      "execution_count": 155,
      "id": "83221ab1",
      "metadata": {
        "colab": {
          "base_uri": "https://localhost:8080/"
        },
        "id": "83221ab1",
        "outputId": "f59beb1e-0487-4cfb-e9fc-1a088b60ddfb"
      },
      "outputs": [
        {
          "output_type": "stream",
          "name": "stdout",
          "text": [
            "[1]\n"
          ]
        }
      ],
      "source": [
        "#make prediction with trained model\n",
        "model=joblib.load('svm_model.sav')\n",
        "res=model.predict([[35,110,1,1,0.70,2,0,0,0,0,0,0]])\n",
        "print(res)"
      ]
    },
    {
      "cell_type": "code",
      "source": [
        "#save the model\n",
        "filename = 'svm_model.sav'\n",
        "path = F\"/content/gdrive/My Drive/{filename}\"\n",
        "joblib.dump(clf, path)"
      ],
      "metadata": {
        "id": "5ABlqS0664os"
      },
      "id": "5ABlqS0664os",
      "execution_count": null,
      "outputs": []
    },
    {
      "cell_type": "code",
      "source": [
        "#load the model from drive nad making predictions\n",
        "model_name = 'svm_model.sav'\n",
        "path = F\"/content/gdrive/My Drive/{model_name}\"\n",
        "model=joblib.load(path)\n",
        "res=model.predict([[35,110,1,1,0.70,2,0,0,0,0,0,0]])\n",
        "print(res)"
      ],
      "metadata": {
        "colab": {
          "base_uri": "https://localhost:8080/"
        },
        "id": "FPatlBos6B1R",
        "outputId": "aad10743-f141-4f0d-9f34-00fc7de88279"
      },
      "id": "FPatlBos6B1R",
      "execution_count": 165,
      "outputs": [
        {
          "output_type": "stream",
          "name": "stdout",
          "text": [
            "[1]\n"
          ]
        }
      ]
    },
    {
      "cell_type": "code",
      "source": [],
      "metadata": {
        "id": "o6XOo3Jg0LX4"
      },
      "id": "o6XOo3Jg0LX4",
      "execution_count": null,
      "outputs": []
    }
  ],
  "metadata": {
    "kernelspec": {
      "display_name": "Python 3 (ipykernel)",
      "language": "python",
      "name": "python3"
    },
    "language_info": {
      "codemirror_mode": {
        "name": "ipython",
        "version": 3
      },
      "file_extension": ".py",
      "mimetype": "text/x-python",
      "name": "python",
      "nbconvert_exporter": "python",
      "pygments_lexer": "ipython3",
      "version": "3.9.13"
    },
    "colab": {
      "provenance": [],
      "include_colab_link": true
    }
  },
  "nbformat": 4,
  "nbformat_minor": 5
}